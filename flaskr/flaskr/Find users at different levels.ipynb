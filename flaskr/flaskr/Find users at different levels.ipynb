{
 "cells": [
  {
   "cell_type": "code",
   "execution_count": 1,
   "metadata": {
    "collapsed": true
   },
   "outputs": [],
   "source": [
    "\n",
    "def calc_level_users(user, max_level, find_next_level):\n",
    "    next_queue = [user]\n",
    "    queue = []\n",
    "    ret = []\n",
    "    for _ in xrange(0, max_level):\n",
    "        queue = next_queue\n",
    "        next_queue = []\n",
    "        for q in queue:\n",
    "            next_queue += find_next_level(q)\n",
    "        ret.append(next_queue[:])\n",
    "    return ret"
   ]
  },
  {
   "cell_type": "code",
   "execution_count": 8,
   "metadata": {
    "collapsed": true
   },
   "outputs": [],
   "source": [
    "data = [\n",
    "    [1, 2],\n",
    "    [1, 3],\n",
    "    [2, 4],\n",
    "    [2, 5],\n",
    "    [3, 6],\n",
    "    [3, 7],\n",
    "    [4, 8],\n",
    "    [4, 9],\n",
    "    [5, 10],\n",
    "    [10, 11],\n",
    "]"
   ]
  },
  {
   "cell_type": "code",
   "execution_count": 6,
   "metadata": {
    "collapsed": true
   },
   "outputs": [],
   "source": [
    "\n",
    "def find_next_level(q):\n",
    "    global data\n",
    "    return [y[1] for y in filter(lambda x: x[0] == q, data)]"
   ]
  },
  {
   "cell_type": "code",
   "execution_count": 9,
   "metadata": {
    "collapsed": false
   },
   "outputs": [
    {
     "data": {
      "text/plain": [
       "[[2, 3], [4, 5, 6, 7], [8, 9, 10]]"
      ]
     },
     "execution_count": 9,
     "metadata": {},
     "output_type": "execute_result"
    }
   ],
   "source": [
    "calc_level_users(1, 3, find_next_level)"
   ]
  },
  {
   "cell_type": "code",
   "execution_count": null,
   "metadata": {
    "collapsed": true
   },
   "outputs": [],
   "source": []
  }
 ],
 "metadata": {
  "kernelspec": {
   "display_name": "Python 2",
   "language": "python",
   "name": "python2"
  },
  "language_info": {
   "codemirror_mode": {
    "name": "ipython",
    "version": 2
   },
   "file_extension": ".py",
   "mimetype": "text/x-python",
   "name": "python",
   "nbconvert_exporter": "python",
   "pygments_lexer": "ipython2",
   "version": "2.7.10"
  }
 },
 "nbformat": 4,
 "nbformat_minor": 0
}
